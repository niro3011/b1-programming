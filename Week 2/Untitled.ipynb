{
 "cells": [
  {
   "cell_type": "code",
   "execution_count": 1,
   "id": "b9fd241e-c401-4a32-9819-74e9c8d9e27b",
   "metadata": {},
   "outputs": [
    {
     "name": "stdout",
     "output_type": "stream",
     "text": [
      "1 3.14 Hello\n"
     ]
    }
   ],
   "source": [
    "firstinteger = 1\n",
    "firstfloat = 3.14\n",
    "firstString = \"Hello\"\n",
    "\n",
    "print(firstinteger,firstfloat,firstString)"
   ]
  },
  {
   "cell_type": "code",
   "execution_count": 4,
   "id": "d371914d-c5f5-4210-9f16-f03f466844e5",
   "metadata": {},
   "outputs": [
    {
     "name": "stdout",
     "output_type": "stream",
     "text": [
      "-5\n"
     ]
    }
   ],
   "source": [
    "number = 5-10\n",
    "print(number)"
   ]
  },
  {
   "cell_type": "code",
   "execution_count": 8,
   "id": "fd85ba95-8a2f-4222-a5d7-bac018211152",
   "metadata": {},
   "outputs": [
    {
     "name": "stdin",
     "output_type": "stream",
     "text": [
      "Dein momentanes Cash: 100\n",
      "momentane Ausgaben: 200\n"
     ]
    },
    {
     "name": "stdout",
     "output_type": "stream",
     "text": [
      "-100\n"
     ]
    }
   ],
   "source": [
    "cash = int(input(\"Dein momentanes Cash:\"))\n",
    "ausgabe = int(input(\"momentane Ausgaben:\"))\n",
    "profit = cash - ausgabe\n",
    "print(profit)"
   ]
  },
  {
   "cell_type": "code",
   "execution_count": null,
   "id": "22a9189d-aa0e-44c2-83c1-894544a1f93a",
   "metadata": {},
   "outputs": [],
   "source": []
  }
 ],
 "metadata": {
  "kernelspec": {
   "display_name": "Python 3 (ipykernel)",
   "language": "python",
   "name": "python3"
  },
  "language_info": {
   "codemirror_mode": {
    "name": "ipython",
    "version": 3
   },
   "file_extension": ".py",
   "mimetype": "text/x-python",
   "name": "python",
   "nbconvert_exporter": "python",
   "pygments_lexer": "ipython3",
   "version": "3.14.0"
  }
 },
 "nbformat": 4,
 "nbformat_minor": 5
}
